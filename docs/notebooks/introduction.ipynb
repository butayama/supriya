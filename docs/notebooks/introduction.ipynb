{
 "cells": [
  {
   "cell_type": "markdown",
   "metadata": {
    "slideshow": {
     "slide_type": "slide"
    }
   },
   "source": [
    "\n",
    "# Introducing Supriya\n",
    "\n",
    "A Python API for SuperCollider\n",
    "\n",
    "https://github.com/josiah-wolf-oberholtzer/supriya"
   ]
  },
  {
   "cell_type": "markdown",
   "metadata": {
    "slideshow": {
     "slide_type": "subslide"
    }
   },
   "source": [
    "## Supriya lets you..."
   ]
  },
  {
   "cell_type": "markdown",
   "metadata": {
    "slideshow": {
     "slide_type": "-"
    }
   },
   "source": [
    "- boot and communicate with SuperCollider's `scsynth` synthesis server"
   ]
  },
  {
   "cell_type": "markdown",
   "metadata": {
    "slideshow": {
     "slide_type": "-"
    }
   },
   "source": [
    "- construct and compile SynthDef unit generator graphs in native Python code"
   ]
  },
  {
   "cell_type": "markdown",
   "metadata": {
    "slideshow": {
     "slide_type": "-"
    }
   },
   "source": [
    "- build and control graphs of synthesizers and synthesizer groups"
   ]
  },
  {
   "cell_type": "markdown",
   "metadata": {
    "slideshow": {
     "slide_type": "-"
    }
   },
   "source": [
    "- explicitly object-model `scsynth`-specific OSC commands  via `Request` and `Response` classes"
   ]
  },
  {
   "cell_type": "markdown",
   "metadata": {
    "slideshow": {
     "slide_type": "-"
    }
   },
   "source": [
    "- compile non-realtime synthesis scores via Supriya's `Session` class"
   ]
  },
  {
   "cell_type": "markdown",
   "metadata": {
    "slideshow": {
     "slide_type": "-"
    }
   },
   "source": [
    "- write patterns for realtime or non-realtime synthesis"
   ]
  },
  {
   "cell_type": "markdown",
   "metadata": {
    "slideshow": {
     "slide_type": "subslide"
    }
   },
   "source": [
    "A lot of the same stuff you do with `sclang` and `scide`, just in Python instead."
   ]
  },
  {
   "cell_type": "markdown",
   "metadata": {
    "slideshow": {
     "slide_type": "slide"
    }
   },
   "source": [
    "## About the author"
   ]
  },
  {
   "cell_type": "markdown",
   "metadata": {
    "slideshow": {
     "slide_type": "-"
    }
   },
   "source": [
    "- A composer and programmer\n",
    "  - https://github.com/josiah-wolf-oberholtzer\n",
    "  - https://soundcloud.com/josiah-wolf-oberholtzer/in-the-tall-grasses"
   ]
  },
  {
   "cell_type": "markdown",
   "metadata": {
    "slideshow": {
     "slide_type": "-"
    }
   },
   "source": [
    "- PhD from Harvard in Music Composition, specializing in massively multi-channel tape music and symbolic computer-assisted composition"
   ]
  },
  {
   "cell_type": "markdown",
   "metadata": {
    "slideshow": {
     "slide_type": "-"
    }
   },
   "source": [
    "- Core contributor to Abjad (https://http://abjad.mbrsi.org/), a Python API for LilyPond"
   ]
  },
  {
   "cell_type": "markdown",
   "metadata": {
    "slideshow": {
     "slide_type": "-"
    }
   },
   "source": [
    "- Software engineering manager at Capital One, running a group developing serverless machine learning applications for hotel reservation arbitrage"
   ]
  },
  {
   "cell_type": "markdown",
   "metadata": {
    "slideshow": {
     "slide_type": "-"
    }
   },
   "source": [
    "- Used / taught enough Max/MSP to hit a wall"
   ]
  },
  {
   "cell_type": "markdown",
   "metadata": {
    "slideshow": {
     "slide_type": "slide"
    }
   },
   "source": [
    "## Hold up, what's Python? (Cribbed from Wikipedia)\n",
    "\n",
    "- Python is an interpreted, high-level, general-purpose programming language.\n",
    "\n",
    "- Created by Guido van Rossum and first released in 1991, **Python has a design philosophy that emphasizes code readability, notably using significant whitespace.** (emphasis mine)\n",
    "\n",
    "- It provides constructs that enable clear programming on both small and large scales.\n",
    "\n",
    "- Python features a dynamic type system and automatic memory management.\n",
    "\n",
    "- It supports multiple programming paradigms, including object-oriented, imperative, functional and procedural, and has a large and comprehensive standard library. It also has a vibrant third-party package ecosystem."
   ]
  },
  {
   "cell_type": "markdown",
   "metadata": {
    "slideshow": {
     "slide_type": "slide"
    }
   },
   "source": [
    "## Hello Python\n",
    "\n",
    "This is maybe a little corny, but it's pretty good advice."
   ]
  },
  {
   "cell_type": "code",
   "execution_count": 1,
   "metadata": {
    "slideshow": {
     "slide_type": "-"
    }
   },
   "outputs": [
    {
     "name": "stdout",
     "output_type": "stream",
     "text": [
      "The Zen of Python, by Tim Peters\n",
      "\n",
      "Beautiful is better than ugly.\n",
      "Explicit is better than implicit.\n",
      "Simple is better than complex.\n",
      "Complex is better than complicated.\n",
      "Flat is better than nested.\n",
      "Sparse is better than dense.\n",
      "Readability counts.\n",
      "Special cases aren't special enough to break the rules.\n",
      "Although practicality beats purity.\n",
      "Errors should never pass silently.\n",
      "Unless explicitly silenced.\n",
      "In the face of ambiguity, refuse the temptation to guess.\n",
      "There should be one-- and preferably only one --obvious way to do it.\n",
      "Although that way may not be obvious at first unless you're Dutch.\n",
      "Now is better than never.\n",
      "Although never is often better than *right* now.\n",
      "If the implementation is hard to explain, it's a bad idea.\n",
      "If the implementation is easy to explain, it may be a good idea.\n",
      "Namespaces are one honking great idea -- let's do more of those!\n"
     ]
    }
   ],
   "source": [
    "import this"
   ]
  },
  {
   "cell_type": "markdown",
   "metadata": {
    "slideshow": {
     "slide_type": "slide"
    }
   },
   "source": [
    "## SuperCollider Architecture Review\n",
    "\n",
    "- `scsynth`: a synthesis server\n",
    "- `sclang`: a programming language / interpreter\n",
    "- `scide`: a GUI for running all of the above\n",
    "- `OSC (Open Sound Control)`: \"a protocol for communication among computers, sound synthesizers, and other multimedia devices\"\n",
    "\n",
    "<img src=\"attachment:scEn.png\" align=\"center\" />"
   ]
  },
  {
   "cell_type": "markdown",
   "metadata": {
    "slideshow": {
     "slide_type": "slide"
    }
   },
   "source": [
    "## OK, but why make another `scsynth` client?\n",
    "\n",
    "- To take advantage of language features and libraries not available in `sclang`\n",
    "- To explore language features and libraries in your chosen language you might not otherwise interact with\n",
    "- To better understand how `sclang` and `scsynth` interact\n",
    "- Just For Fun™\n",
    "- Because you're stubborn"
   ]
  },
  {
   "cell_type": "markdown",
   "metadata": {
    "slideshow": {
     "slide_type": "subslide"
    }
   },
   "source": [
    "## No, really, why?\n",
    "\n",
    "Well, I want...\n",
    "\n",
    "- To make massively multichannel fixed media pieces in my preferred language, so I can make use of code I've already written as well as many third-party libraries I love using for documentation, testing, etc.\n",
    "- To have all audio materials modeled in code\n",
    "- To create parity between the experiences of realtime experimentation and non-realtime composing\n",
    "- To allow layers of NRT material to reference one another in an object-oriented way\n",
    "- To allow for fully-reproducible (re-)rendering of NRT scores\n",
    "- To allow entire scores and related CLI/TUI tools to be fully tested as code"
   ]
  },
  {
   "cell_type": "markdown",
   "metadata": {
    "slideshow": {
     "slide_type": "slide"
    }
   },
   "source": [
    "## Some design principles\n",
    "\n",
    "- Keep the scope narrow / don't reinvent\n",
    "    - Lean on the wider community for unit test, math, MIDI, etc.\n",
    "- Keep the interfaces familiar\n",
    "    - Python makes it easy for classes to implement list-like / dictionary-like interfaces\n",
    "- Keep the interfaces simple\n",
    "    - Avoid convenience methods, alternate spellings\n",
    "- Avoid global state\n",
    "- Make classes as immutable as possible\n",
    "    - Local state can be as hard to manage as global state\n",
    "    - Use factory classes to configure and instantiate instances\n",
    "- If it's a term-of-art in `scsynth`, use the name"
   ]
  },
  {
   "cell_type": "markdown",
   "metadata": {
    "slideshow": {
     "slide_type": "slide"
    }
   },
   "source": [
    "## Hello World"
   ]
  },
  {
   "cell_type": "code",
   "execution_count": 4,
   "metadata": {
    "slideshow": {
     "slide_type": "fragment"
    }
   },
   "outputs": [],
   "source": [
    "from supriya import Server, Synth"
   ]
  },
  {
   "cell_type": "code",
   "execution_count": 5,
   "metadata": {
    "scrolled": true,
    "slideshow": {
     "slide_type": "fragment"
    }
   },
   "outputs": [
    {
     "ename": "AttributeError",
     "evalue": "module 'os' has no attribute 'getpgid'",
     "output_type": "error",
     "traceback": [
      "\u001B[1;31m---------------------------------------------------------------------------\u001B[0m",
      "\u001B[1;31mServerCannotBoot\u001B[0m                          Traceback (most recent call last)",
      "\u001B[1;32mE:\\GitHub\\supriya\\supriya\\realtime\\protocols.py\u001B[0m in \u001B[0;36mboot\u001B[1;34m(self, options, scsynth_path, port)\u001B[0m\n\u001B[0;32m     58\u001B[0m                 \u001B[1;32melif\u001B[0m \u001B[1;33m(\u001B[0m\u001B[0mtime\u001B[0m\u001B[1;33m.\u001B[0m\u001B[0mtime\u001B[0m\u001B[1;33m(\u001B[0m\u001B[1;33m)\u001B[0m \u001B[1;33m-\u001B[0m \u001B[0mstart_time\u001B[0m\u001B[1;33m)\u001B[0m \u001B[1;33m>\u001B[0m \u001B[0mtimeout\u001B[0m\u001B[1;33m:\u001B[0m\u001B[1;33m\u001B[0m\u001B[1;33m\u001B[0m\u001B[0m\n\u001B[1;32m---> 59\u001B[1;33m                     \u001B[1;32mraise\u001B[0m \u001B[0msupriya\u001B[0m\u001B[1;33m.\u001B[0m\u001B[0mexceptions\u001B[0m\u001B[1;33m.\u001B[0m\u001B[0mServerCannotBoot\u001B[0m\u001B[1;33m(\u001B[0m\u001B[0mline\u001B[0m\u001B[1;33m)\u001B[0m\u001B[1;33m\u001B[0m\u001B[1;33m\u001B[0m\u001B[0m\n\u001B[0m\u001B[0;32m     60\u001B[0m             \u001B[0mself\u001B[0m\u001B[1;33m.\u001B[0m\u001B[0mis_running\u001B[0m \u001B[1;33m=\u001B[0m \u001B[1;32mTrue\u001B[0m\u001B[1;33m\u001B[0m\u001B[1;33m\u001B[0m\u001B[0m\n",
      "\u001B[1;31mServerCannotBoot\u001B[0m: ",
      "\nDuring handling of the above exception, another exception occurred:\n",
      "\u001B[1;31mAttributeError\u001B[0m                            Traceback (most recent call last)",
      "\u001B[1;32m<ipython-input-5-22be2835faf4>\u001B[0m in \u001B[0;36m<module>\u001B[1;34m\u001B[0m\n\u001B[0;32m      1\u001B[0m \u001B[0mserver\u001B[0m \u001B[1;33m=\u001B[0m \u001B[0mServer\u001B[0m\u001B[1;33m(\u001B[0m\u001B[1;33m)\u001B[0m\u001B[1;33m\u001B[0m\u001B[1;33m\u001B[0m\u001B[0m\n\u001B[1;32m----> 2\u001B[1;33m \u001B[0mserver\u001B[0m\u001B[1;33m.\u001B[0m\u001B[0mboot\u001B[0m\u001B[1;33m(\u001B[0m\u001B[1;33m)\u001B[0m\u001B[1;33m\u001B[0m\u001B[1;33m\u001B[0m\u001B[0m\n\u001B[0m",
      "\u001B[1;32mE:\\GitHub\\supriya\\supriya\\realtime\\servers.py\u001B[0m in \u001B[0;36mboot\u001B[1;34m(self, port, scsynth_path, options, **kwargs)\u001B[0m\n\u001B[0;32m    999\u001B[0m         \u001B[0mscsynth_path\u001B[0m \u001B[1;33m=\u001B[0m \u001B[0mfind\u001B[0m\u001B[1;33m(\u001B[0m\u001B[0mscsynth_path\u001B[0m\u001B[1;33m)\u001B[0m\u001B[1;33m\u001B[0m\u001B[1;33m\u001B[0m\u001B[0m\n\u001B[0;32m   1000\u001B[0m         \u001B[0mself\u001B[0m\u001B[1;33m.\u001B[0m\u001B[0m_process_protocol\u001B[0m \u001B[1;33m=\u001B[0m \u001B[0mSyncProcessProtocol\u001B[0m\u001B[1;33m(\u001B[0m\u001B[1;33m)\u001B[0m\u001B[1;33m\u001B[0m\u001B[1;33m\u001B[0m\u001B[0m\n\u001B[1;32m-> 1001\u001B[1;33m         \u001B[0mself\u001B[0m\u001B[1;33m.\u001B[0m\u001B[0m_process_protocol\u001B[0m\u001B[1;33m.\u001B[0m\u001B[0mboot\u001B[0m\u001B[1;33m(\u001B[0m\u001B[0mself\u001B[0m\u001B[1;33m.\u001B[0m\u001B[0m_options\u001B[0m\u001B[1;33m,\u001B[0m \u001B[0mscsynth_path\u001B[0m\u001B[1;33m,\u001B[0m \u001B[0mport\u001B[0m\u001B[1;33m)\u001B[0m\u001B[1;33m\u001B[0m\u001B[1;33m\u001B[0m\u001B[0m\n\u001B[0m\u001B[0;32m   1002\u001B[0m         \u001B[0mself\u001B[0m\u001B[1;33m.\u001B[0m\u001B[0m_ip_address\u001B[0m \u001B[1;33m=\u001B[0m \u001B[1;34m\"127.0.0.1\"\u001B[0m\u001B[1;33m\u001B[0m\u001B[1;33m\u001B[0m\u001B[0m\n\u001B[0;32m   1003\u001B[0m         \u001B[0mself\u001B[0m\u001B[1;33m.\u001B[0m\u001B[0m_is_owner\u001B[0m \u001B[1;33m=\u001B[0m \u001B[1;32mTrue\u001B[0m\u001B[1;33m\u001B[0m\u001B[1;33m\u001B[0m\u001B[0m\n",
      "\u001B[1;32mE:\\GitHub\\supriya\\supriya\\realtime\\protocols.py\u001B[0m in \u001B[0;36mboot\u001B[1;34m(self, options, scsynth_path, port)\u001B[0m\n\u001B[0;32m     61\u001B[0m         \u001B[1;32mexcept\u001B[0m \u001B[0msupriya\u001B[0m\u001B[1;33m.\u001B[0m\u001B[0mexceptions\u001B[0m\u001B[1;33m.\u001B[0m\u001B[0mServerCannotBoot\u001B[0m\u001B[1;33m:\u001B[0m\u001B[1;33m\u001B[0m\u001B[1;33m\u001B[0m\u001B[0m\n\u001B[0;32m     62\u001B[0m             \u001B[1;32mtry\u001B[0m\u001B[1;33m:\u001B[0m\u001B[1;33m\u001B[0m\u001B[1;33m\u001B[0m\u001B[0m\n\u001B[1;32m---> 63\u001B[1;33m                 \u001B[0mprocess_group\u001B[0m \u001B[1;33m=\u001B[0m \u001B[0mos\u001B[0m\u001B[1;33m.\u001B[0m\u001B[0mgetpgid\u001B[0m\u001B[1;33m(\u001B[0m\u001B[0mself\u001B[0m\u001B[1;33m.\u001B[0m\u001B[0mprocess\u001B[0m\u001B[1;33m.\u001B[0m\u001B[0mpid\u001B[0m\u001B[1;33m)\u001B[0m\u001B[1;33m\u001B[0m\u001B[1;33m\u001B[0m\u001B[0m\n\u001B[0m\u001B[0;32m     64\u001B[0m                 \u001B[0mos\u001B[0m\u001B[1;33m.\u001B[0m\u001B[0mkillpg\u001B[0m\u001B[1;33m(\u001B[0m\u001B[0mprocess_group\u001B[0m\u001B[1;33m,\u001B[0m \u001B[0msignal\u001B[0m\u001B[1;33m.\u001B[0m\u001B[0mSIGINT\u001B[0m\u001B[1;33m)\u001B[0m\u001B[1;33m\u001B[0m\u001B[1;33m\u001B[0m\u001B[0m\n\u001B[0;32m     65\u001B[0m                 \u001B[0mself\u001B[0m\u001B[1;33m.\u001B[0m\u001B[0mprocess\u001B[0m\u001B[1;33m.\u001B[0m\u001B[0mterminate\u001B[0m\u001B[1;33m(\u001B[0m\u001B[1;33m)\u001B[0m\u001B[1;33m\u001B[0m\u001B[1;33m\u001B[0m\u001B[0m\n",
      "\u001B[1;31mAttributeError\u001B[0m: module 'os' has no attribute 'getpgid'"
     ]
    }
   ],
   "source": [
    "server = Server()\n",
    "server.boot()"
   ]
  },
  {
   "cell_type": "code",
   "execution_count": null,
   "metadata": {
    "slideshow": {
     "slide_type": "fragment"
    }
   },
   "outputs": [],
   "source": [
    "synth = Synth()\n",
    "synth.allocate()"
   ]
  },
  {
   "cell_type": "code",
   "execution_count": null,
   "metadata": {
    "slideshow": {
     "slide_type": "fragment"
    }
   },
   "outputs": [],
   "source": [
    "print(server)"
   ]
  },
  {
   "cell_type": "code",
   "execution_count": null,
   "metadata": {
    "slideshow": {
     "slide_type": "fragment"
    }
   },
   "outputs": [],
   "source": [
    "synth.release()"
   ]
  },
  {
   "cell_type": "code",
   "execution_count": null,
   "metadata": {
    "slideshow": {
     "slide_type": "fragment"
    }
   },
   "outputs": [],
   "source": [
    "server.quit()"
   ]
  },
  {
   "cell_type": "markdown",
   "metadata": {
    "slideshow": {
     "slide_type": "slide"
    }
   },
   "source": [
    "### Hello World (a little more complicated)"
   ]
  },
  {
   "cell_type": "code",
   "execution_count": null,
   "metadata": {
    "slideshow": {
     "slide_type": "fragment"
    }
   },
   "outputs": [],
   "source": [
    "from supriya import Bus, Group, Server, Synth"
   ]
  },
  {
   "cell_type": "code",
   "execution_count": null,
   "metadata": {
    "slideshow": {
     "slide_type": "fragment"
    }
   },
   "outputs": [],
   "source": [
    "server = Server().boot()"
   ]
  },
  {
   "cell_type": "code",
   "execution_count": null,
   "metadata": {
    "slideshow": {
     "slide_type": "fragment"
    }
   },
   "outputs": [],
   "source": [
    "bus = Bus.control().allocate()\n",
    "bus.set(0.5)"
   ]
  },
  {
   "cell_type": "code",
   "execution_count": null,
   "metadata": {
    "slideshow": {
     "slide_type": "fragment"
    }
   },
   "outputs": [],
   "source": [
    "group = Group().allocate()\n",
    "for i in range(1, 10):\n",
    "    synth = Synth(amplitude=bus, frequency=111 * i)\n",
    "    _ = synth.allocate(target_node=group)"
   ]
  },
  {
   "cell_type": "code",
   "execution_count": null,
   "metadata": {
    "slideshow": {
     "slide_type": "fragment"
    }
   },
   "outputs": [],
   "source": [
    "bus.set(0.1)"
   ]
  },
  {
   "cell_type": "code",
   "execution_count": null,
   "metadata": {
    "slideshow": {
     "slide_type": "fragment"
    }
   },
   "outputs": [],
   "source": [
    "group.controls[\"gate\"] = 0"
   ]
  },
  {
   "cell_type": "code",
   "execution_count": null,
   "metadata": {},
   "outputs": [],
   "source": [
    "server.quit()"
   ]
  },
  {
   "cell_type": "markdown",
   "metadata": {
    "slideshow": {
     "slide_type": "slide"
    }
   },
   "source": [
    "## Realtime Server Node Tree Model"
   ]
  },
  {
   "cell_type": "markdown",
   "metadata": {},
   "source": [
    "Let's just import `supriya`:"
   ]
  },
  {
   "cell_type": "code",
   "execution_count": null,
   "metadata": {},
   "outputs": [],
   "source": [
    "import supriya"
   ]
  },
  {
   "cell_type": "markdown",
   "metadata": {},
   "source": [
    "And let's make a bunch of synths and groups..."
   ]
  },
  {
   "cell_type": "code",
   "execution_count": null,
   "metadata": {},
   "outputs": [],
   "source": [
    "synth_a = supriya.Synth(frequency=333, name=\"A\")\n",
    "synth_b = supriya.Synth(frequency=444, name=\"B\")\n",
    "synth_c = supriya.Synth(frequency=555, name=\"C\")\n",
    "outer_group = supriya.Group(name=\"Outer\")\n",
    "inner_group = supriya.Group(name=\"Inner\")\n",
    "outer_group.extend([synth_a, inner_group, synth_c])\n",
    "inner_group.append(synth_b)"
   ]
  },
  {
   "cell_type": "markdown",
   "metadata": {
    "slideshow": {
     "slide_type": "subslide"
    }
   },
   "source": [
    "Shhh, this is magic..."
   ]
  },
  {
   "cell_type": "code",
   "execution_count": null,
   "metadata": {
    "slideshow": {
     "slide_type": "-"
    }
   },
   "outputs": [],
   "source": [
    "%load_ext supriya.ext.ipython"
   ]
  },
  {
   "cell_type": "markdown",
   "metadata": {
    "slideshow": {
     "slide_type": "subslide"
    }
   },
   "source": [
    "...so we can capture some of Supriya's output in this presentation:"
   ]
  },
  {
   "cell_type": "code",
   "execution_count": null,
   "metadata": {
    "slideshow": {
     "slide_type": "-"
    }
   },
   "outputs": [],
   "source": [
    "_ = supriya.graph(outer_group)"
   ]
  },
  {
   "cell_type": "markdown",
   "metadata": {
    "slideshow": {
     "slide_type": "subslide"
    }
   },
   "source": [
    "Groups know about their children and nodes know about their parents:"
   ]
  },
  {
   "cell_type": "code",
   "execution_count": null,
   "metadata": {
    "slideshow": {
     "slide_type": "-"
    }
   },
   "outputs": [],
   "source": [
    "for index, node in enumerate(outer_group.children):\n",
    "    print(index, repr(node)) "
   ]
  },
  {
   "cell_type": "code",
   "execution_count": null,
   "metadata": {
    "scrolled": true
   },
   "outputs": [],
   "source": [
    "for distance, node in enumerate(synth_b.parentage):\n",
    "    print(distance, repr(node))"
   ]
  },
  {
   "cell_type": "markdown",
   "metadata": {},
   "source": [
    "Nodes can be iterated depth-first and know their position in the tree:"
   ]
  },
  {
   "cell_type": "code",
   "execution_count": null,
   "metadata": {},
   "outputs": [],
   "source": [
    "for child in outer_group.depth_first():\n",
    "    print(repr(child), child.graph_order)"
   ]
  },
  {
   "cell_type": "markdown",
   "metadata": {
    "slideshow": {
     "slide_type": "subslide"
    }
   },
   "source": [
    "Booting the server is \"just like\"™ in `sclang`:"
   ]
  },
  {
   "cell_type": "code",
   "execution_count": null,
   "metadata": {
    "slideshow": {
     "slide_type": "-"
    }
   },
   "outputs": [],
   "source": [
    "server = supriya.Server()\n",
    "server.boot()"
   ]
  },
  {
   "cell_type": "markdown",
   "metadata": {
    "slideshow": {
     "slide_type": "subslide"
    }
   },
   "source": [
    "We can print out to the interpreter a string representation of `scsynth`'s state:"
   ]
  },
  {
   "cell_type": "code",
   "execution_count": null,
   "metadata": {},
   "outputs": [],
   "source": [
    "print(server)"
   ]
  },
  {
   "cell_type": "markdown",
   "metadata": {},
   "source": [
    "Allocating a group recursively allocates its children. "
   ]
  },
  {
   "cell_type": "code",
   "execution_count": null,
   "metadata": {},
   "outputs": [],
   "source": [
    "outer_group.allocate()\n",
    "print(server)"
   ]
  },
  {
   "cell_type": "markdown",
   "metadata": {
    "slideshow": {
     "slide_type": "subslide"
    }
   },
   "source": [
    "Let's visualize the allocated node structure:"
   ]
  },
  {
   "cell_type": "code",
   "execution_count": null,
   "metadata": {
    "slideshow": {
     "slide_type": "-"
    }
   },
   "outputs": [],
   "source": [
    "_ = supriya.graph(outer_group)"
   ]
  },
  {
   "cell_type": "markdown",
   "metadata": {
    "slideshow": {
     "slide_type": "subslide"
    }
   },
   "source": [
    "We can query synth controls and set them like a Python dictionary:"
   ]
  },
  {
   "cell_type": "code",
   "execution_count": null,
   "metadata": {
    "slideshow": {
     "slide_type": "-"
    }
   },
   "outputs": [],
   "source": [
    "synth_a[\"frequency\"]"
   ]
  },
  {
   "cell_type": "code",
   "execution_count": null,
   "metadata": {},
   "outputs": [],
   "source": [
    "synth_a[\"frequency\"] = 654\n",
    "print(synth_a[\"frequency\"])"
   ]
  },
  {
   "cell_type": "markdown",
   "metadata": {},
   "source": [
    "And we can set the controls of synths who are members of the subtree rooted at some group by setting a key of that the group like you would a dictionary:"
   ]
  },
  {
   "cell_type": "code",
   "execution_count": null,
   "metadata": {},
   "outputs": [],
   "source": [
    "outer_group.controls[\"amplitude\"] = 0.01\n",
    "synth_a[\"amplitude\"]"
   ]
  },
  {
   "cell_type": "markdown",
   "metadata": {
    "slideshow": {
     "slide_type": "subslide"
    }
   },
   "source": [
    "The synth controls are also explicitly modeled, hidden inside the \"controls\" interface:"
   ]
  },
  {
   "cell_type": "code",
   "execution_count": null,
   "metadata": {
    "slideshow": {
     "slide_type": "-"
    }
   },
   "outputs": [],
   "source": [
    "for control_name in synth_a.controls:\n",
    "    print(repr(synth_a.controls[control_name]))"
   ]
  },
  {
   "cell_type": "markdown",
   "metadata": {},
   "source": [
    "Groups also have a control interface, aggregating controls from synths in their subtree:"
   ]
  },
  {
   "cell_type": "code",
   "execution_count": null,
   "metadata": {},
   "outputs": [],
   "source": [
    "for control_name in outer_group.controls:\n",
    "    print(repr(outer_group.controls[control_name]))"
   ]
  },
  {
   "cell_type": "markdown",
   "metadata": {
    "slideshow": {
     "slide_type": "subslide"
    }
   },
   "source": [
    "We can allocate new nodes and move existing nodes in the same command"
   ]
  },
  {
   "cell_type": "code",
   "execution_count": null,
   "metadata": {
    "slideshow": {
     "slide_type": "-"
    }
   },
   "outputs": [],
   "source": [
    "synth_d = supriya.Synth(synthdef=supriya.assets.synthdefs.pad, name=\"D\")\n",
    "inner_group.extend([synth_d, synth_a])"
   ]
  },
  {
   "cell_type": "markdown",
   "metadata": {},
   "source": [
    "Iteration continues to work:"
   ]
  },
  {
   "cell_type": "code",
   "execution_count": null,
   "metadata": {},
   "outputs": [],
   "source": [
    "for node in outer_group.children:\n",
    "    print(repr(node))"
   ]
  },
  {
   "cell_type": "markdown",
   "metadata": {},
   "source": [
    "And the `Outer` group now knows about a new synth control name from the `pad` SynthDef:"
   ]
  },
  {
   "cell_type": "code",
   "execution_count": null,
   "metadata": {
    "scrolled": false
   },
   "outputs": [],
   "source": [
    "for control_name in outer_group.controls:\n",
    "    print(control_name)"
   ]
  },
  {
   "cell_type": "markdown",
   "metadata": {
    "slideshow": {
     "slide_type": "subslide"
    }
   },
   "source": [
    "We can visualize the entire server node structure, including the root node and default group:"
   ]
  },
  {
   "cell_type": "code",
   "execution_count": null,
   "metadata": {
    "slideshow": {
     "slide_type": "-"
    }
   },
   "outputs": [],
   "source": [
    "_ = supriya.graph(server)"
   ]
  },
  {
   "cell_type": "markdown",
   "metadata": {
    "slideshow": {
     "slide_type": "subslide"
    }
   },
   "source": [
    "Let's free the `Outer` group:"
   ]
  },
  {
   "cell_type": "code",
   "execution_count": null,
   "metadata": {
    "slideshow": {
     "slide_type": "-"
    }
   },
   "outputs": [],
   "source": [
    "outer_group.free()"
   ]
  },
  {
   "cell_type": "code",
   "execution_count": null,
   "metadata": {},
   "outputs": [],
   "source": [
    "print(server)"
   ]
  },
  {
   "cell_type": "markdown",
   "metadata": {},
   "source": [
    "Explicitly freeing a group does not destructure its children:"
   ]
  },
  {
   "cell_type": "code",
   "execution_count": null,
   "metadata": {},
   "outputs": [],
   "source": [
    "print(outer_group)"
   ]
  },
  {
   "cell_type": "code",
   "execution_count": null,
   "metadata": {
    "slideshow": {
     "slide_type": "subslide"
    }
   },
   "outputs": [],
   "source": [
    "_ = supriya.graph(outer_group)"
   ]
  },
  {
   "cell_type": "code",
   "execution_count": null,
   "metadata": {},
   "outputs": [],
   "source": [
    "server.quit()"
   ]
  },
  {
   "cell_type": "markdown",
   "metadata": {
    "slideshow": {
     "slide_type": "slide"
    }
   },
   "source": [
    "## OSC Command Aggregation\n",
    "\n",
    "What's Supriya _actually_ doing when we move nodes in and out of the server tree?"
   ]
  },
  {
   "cell_type": "code",
   "execution_count": null,
   "metadata": {
    "slideshow": {
     "slide_type": "subslide"
    }
   },
   "outputs": [],
   "source": [
    "server = supriya.Server().reboot()\n",
    "server.debug_request_names = True  # for legibility"
   ]
  },
  {
   "cell_type": "markdown",
   "metadata": {},
   "source": [
    "Here's the same node structure as before..."
   ]
  },
  {
   "cell_type": "code",
   "execution_count": null,
   "metadata": {},
   "outputs": [],
   "source": [
    "synth_a = supriya.Synth(frequency=333, name=\"A\")\n",
    "synth_b = supriya.Synth(frequency=444, name=\"B\")\n",
    "synth_c = supriya.Synth(frequency=555, name=\"C\")\n",
    "outer_group = supriya.Group(name=\"Outer\")\n",
    "inner_group = supriya.Group(name=\"Inner\")\n",
    "outer_group.extend([synth_a, inner_group, synth_c])\n",
    "inner_group.append(synth_b)\n",
    "print(outer_group)"
   ]
  },
  {
   "cell_type": "markdown",
   "metadata": {
    "slideshow": {
     "slide_type": "subslide"
    }
   },
   "source": [
    "Let's allocate the default SynthDef manually (why?):"
   ]
  },
  {
   "cell_type": "code",
   "execution_count": null,
   "metadata": {
    "slideshow": {
     "slide_type": "-"
    }
   },
   "outputs": [],
   "source": [
    "supriya.assets.synthdefs.default.allocate()"
   ]
  },
  {
   "cell_type": "markdown",
   "metadata": {
    "slideshow": {
     "slide_type": "-"
    }
   },
   "source": [
    "We can spy on OSC messages going to and coming from `scsynth`:"
   ]
  },
  {
   "cell_type": "code",
   "execution_count": null,
   "metadata": {
    "slideshow": {
     "slide_type": "-"
    }
   },
   "outputs": [],
   "source": [
    "with server.osc_io.capture() as transcript:\n",
    "    outer_group.allocate()"
   ]
  },
  {
   "cell_type": "code",
   "execution_count": null,
   "metadata": {
    "slideshow": {
     "slide_type": "-"
    }
   },
   "outputs": [],
   "source": [
    "for timestamp, osc_message in transcript.sent_messages:\n",
    "    print(repr(osc_message))"
   ]
  },
  {
   "cell_type": "markdown",
   "metadata": {
    "slideshow": {
     "slide_type": "notes"
    }
   },
   "source": [
    "- What was sent when we allocated that group? An OSC bundle.\n",
    "- What's an OSC bundle? A bunch of OSC messages meant to execute simultaneously.\n",
    "- Supriya models OSC bundles and OSC messages explicitly as classes\n",
    "- The OSC messages here are a linearized version of depth-first allocation of the nodes in the subtree."
   ]
  },
  {
   "cell_type": "markdown",
   "metadata": {
    "slideshow": {
     "slide_type": "subslide"
    }
   },
   "source": [
    "We also have the responses from the server to each of those `/s_new` and `/g_new` commands.\n",
    "And the `/synced` response as well..."
   ]
  },
  {
   "cell_type": "code",
   "execution_count": null,
   "metadata": {
    "slideshow": {
     "slide_type": "-"
    }
   },
   "outputs": [],
   "source": [
    "for timestamp, osc_message in transcript.received_messages:\n",
    "    print(repr(osc_message))"
   ]
  },
  {
   "cell_type": "markdown",
   "metadata": {
    "slideshow": {
     "slide_type": "subslide"
    }
   },
   "source": [
    "Recall that I manually allocated the default synthdef earlier.\n",
    "\n",
    "Let's make a new synth_d using a simple sine-wave synthdef.\n",
    "\n",
    "Then let's allocate the new synth and also move synth 1001 into the inner group."
   ]
  },
  {
   "cell_type": "code",
   "execution_count": null,
   "metadata": {
    "slideshow": {
     "slide_type": "-"
    }
   },
   "outputs": [],
   "source": [
    "synth_d = supriya.Synth(synthdef=supriya.assets.synthdefs.simple_sine)\n",
    "with server.osc_io.capture() as transcript:\n",
    "    inner_group.extend([synth_d, synth_a])"
   ]
  },
  {
   "cell_type": "markdown",
   "metadata": {
    "slideshow": {
     "slide_type": "subslide"
    }
   },
   "source": [
    "Supriya knows if SynthDefs have previously been allocated.\n",
    "\n",
    "When allocating new synths it will generate an `/d_recv` and add any node allocation / movement / free commands as the completion message:"
   ]
  },
  {
   "cell_type": "code",
   "execution_count": null,
   "metadata": {
    "slideshow": {
     "slide_type": "-"
    }
   },
   "outputs": [],
   "source": [
    "for timestamp, osc_message in transcript.sent_messages:\n",
    "    print(repr(osc_message))"
   ]
  },
  {
   "cell_type": "code",
   "execution_count": null,
   "metadata": {
    "slideshow": {
     "slide_type": "-"
    }
   },
   "outputs": [],
   "source": [
    "for timestamp, osc_message in transcript.received_messages:\n",
    "    print(repr(osc_message))"
   ]
  },
  {
   "cell_type": "markdown",
   "metadata": {
    "slideshow": {
     "slide_type": "slide"
    }
   },
   "source": [
    "## Requests and Responses\n",
    "\n",
    "Let's reboot..."
   ]
  },
  {
   "cell_type": "code",
   "execution_count": null,
   "metadata": {},
   "outputs": [],
   "source": [
    "server = supriya.Server().reboot()"
   ]
  },
  {
   "cell_type": "markdown",
   "metadata": {},
   "source": [
    "Ok, this is almost the same as before, just simpler:"
   ]
  },
  {
   "cell_type": "code",
   "execution_count": null,
   "metadata": {},
   "outputs": [],
   "source": [
    "synth_a = supriya.Synth(frequency=333, name=\"A\")\n",
    "synth_b = supriya.Synth(synthdef=supriya.assets.synthdefs.pad, frequency=444, name=\"B\")\n",
    "outer_group = supriya.Group(name=\"Outer\")\n",
    "inner_group = supriya.Group(name=\"Inner\")\n",
    "outer_group.extend([synth_a, inner_group])\n",
    "inner_group.append(synth_b)"
   ]
  },
  {
   "cell_type": "code",
   "execution_count": null,
   "metadata": {
    "slideshow": {
     "slide_type": "-"
    }
   },
   "outputs": [],
   "source": [
    "with server.osc_io.capture() as transcript:\n",
    "    outer_group.allocate()"
   ]
  },
  {
   "cell_type": "code",
   "execution_count": null,
   "metadata": {
    "slideshow": {
     "slide_type": "subslide"
    }
   },
   "outputs": [],
   "source": [
    "for timestamp, request in transcript.requests:\n",
    "    print(request)"
   ]
  },
  {
   "cell_type": "markdown",
   "metadata": {
    "slideshow": {
     "slide_type": "notes"
    }
   },
   "source": [
    "None of the above is OSC. It's all explicitly class-modeled.\n",
    "\n",
    "Note that some of the `node_id` and `target_node_id` arguments are actually references to specific `Group` or `Synth` objects rather than just integers.\n",
    "\n",
    "When communicating a request like this to the server, we don't necessarily know the IDs of the nodes until we start to communicate it.\n",
    "\n",
    "What happen's when we \"run\" a request?\n",
    "- Linearize the request (if necessary) into a series of requests.\n",
    "- Apply each request _locally_, including allocating the ID of each request's node; the request classes implement any necessary logic for local application.\n",
    "- If we want to block until the server processes the request, register an OSC callback using the requests's knowledge of what to expect\n",
    "- Convert the request to OSC and send it\n",
    "- If blocking, wait until we receive the expected response."
   ]
  },
  {
   "cell_type": "code",
   "execution_count": null,
   "metadata": {
    "slideshow": {
     "slide_type": "subslide"
    }
   },
   "outputs": [],
   "source": [
    "for timestamp, response in transcript.responses:\n",
    "    print(response)"
   ]
  },
  {
   "cell_type": "markdown",
   "metadata": {
    "slideshow": {
     "slide_type": "subslide"
    }
   },
   "source": [
    "There are a _lot_ of `Request` and `Response` classes..."
   ]
  },
  {
   "cell_type": "code",
   "execution_count": null,
   "metadata": {
    "slideshow": {
     "slide_type": "-"
    }
   },
   "outputs": [],
   "source": [
    "print(dir(supriya.commands))"
   ]
  },
  {
   "cell_type": "code",
   "execution_count": null,
   "metadata": {},
   "outputs": [],
   "source": [
    "server.quit()"
   ]
  },
  {
   "cell_type": "markdown",
   "metadata": {
    "slideshow": {
     "slide_type": "subslide"
    }
   },
   "source": [
    "### Musings\n",
    "\n",
    "The synthesis server is a state machine.\n",
    "\n",
    "OSC commands are state transitions.\n",
    "\n",
    "The local server state is a lossy model of the (complete) synthesis server state.\n",
    "\n",
    "Request classes (can/should) encapsulate the logic for performing their effects on the local state."
   ]
  },
  {
   "cell_type": "markdown",
   "metadata": {
    "slideshow": {
     "slide_type": "subslide"
    }
   },
   "source": [
    "## SynthDef Builders\n",
    "\n",
    "SynthDefs are created via SynthDefBuilders, which act as \"context managers\":"
   ]
  },
  {
   "cell_type": "code",
   "execution_count": null,
   "metadata": {},
   "outputs": [],
   "source": [
    "builder = supriya.SynthDefBuilder(amplitude=0, bus=0, frequency=440)"
   ]
  },
  {
   "cell_type": "markdown",
   "metadata": {},
   "source": [
    "SynthDef parameters are accessed via dictionary lookup on the builder:"
   ]
  },
  {
   "cell_type": "code",
   "execution_count": null,
   "metadata": {},
   "outputs": [],
   "source": [
    "with builder as builder:\n",
    "    sine = supriya.ugens.SinOsc.ar(frequency=builder[\"frequency\"])\n",
    "    source = sine * builder[\"amplitude\"]\n",
    "    supriya.ugens.Out.ar(\n",
    "        bus=builder[\"bus\"],\n",
    "        source=source,\n",
    "    )"
   ]
  },
  {
   "cell_type": "code",
   "execution_count": null,
   "metadata": {},
   "outputs": [],
   "source": [
    "synthdef = builder.build(name=\"simple_sine\")\n",
    "print(repr(synthdef))"
   ]
  },
  {
   "cell_type": "code",
   "execution_count": null,
   "metadata": {
    "slideshow": {
     "slide_type": "subslide"
    }
   },
   "outputs": [],
   "source": [
    "_ = supriya.graph(synthdef)"
   ]
  },
  {
   "cell_type": "markdown",
   "metadata": {
    "slideshow": {
     "slide_type": "subslide"
    }
   },
   "source": [
    "More ways of \"viewing\" a SynthDef:"
   ]
  },
  {
   "cell_type": "code",
   "execution_count": null,
   "metadata": {
    "slideshow": {
     "slide_type": "-"
    }
   },
   "outputs": [],
   "source": [
    "print(str(synthdef))"
   ]
  },
  {
   "cell_type": "code",
   "execution_count": null,
   "metadata": {},
   "outputs": [],
   "source": [
    "synthdef.compile()"
   ]
  },
  {
   "cell_type": "markdown",
   "metadata": {
    "slideshow": {
     "slide_type": "subslide"
    }
   },
   "source": [
    "### A slightly more complex SynthDef"
   ]
  },
  {
   "cell_type": "code",
   "execution_count": null,
   "metadata": {
    "slideshow": {
     "slide_type": "-"
    }
   },
   "outputs": [],
   "source": [
    "builder = supriya.SynthDefBuilder(amplitude=1, bus=0, frequency=440, decay_time=5, coefficient=0.1)"
   ]
  },
  {
   "cell_type": "code",
   "execution_count": null,
   "metadata": {
    "slideshow": {
     "slide_type": "-"
    }
   },
   "outputs": [],
   "source": [
    "with builder:\n",
    "    envelope = supriya.ugens.EnvGen.kr(\n",
    "        envelope=supriya.synthdefs.Envelope.linen(\n",
    "            attack_time=0,\n",
    "            sustain_time=builder[\"decay_time\"],\n",
    "            release_time=0,\n",
    "        ),\n",
    "        done_action=supriya.DoneAction.FREE_SYNTH,\n",
    "    )\n",
    "    source = supriya.ugens.Pluck.ar(\n",
    "        source=supriya.ugens.WhiteNoise.ar() * builder[\"amplitude\"],\n",
    "        trigger=supriya.ugens.Impulse.kr(frequency=0),\n",
    "        maximum_delay_time=0.1,\n",
    "        delay_time=1 / builder[\"frequency\"],\n",
    "        decay_time=builder[\"decay_time\"],\n",
    "        coefficient=builder[\"coefficient\"],\n",
    "    )\n",
    "    supriya.ugens.Out.ar(bus=builder[\"bus\"], source=[source, source])"
   ]
  },
  {
   "cell_type": "code",
   "execution_count": null,
   "metadata": {},
   "outputs": [],
   "source": [
    "pluck_synthdef = builder.build()"
   ]
  },
  {
   "cell_type": "code",
   "execution_count": null,
   "metadata": {
    "slideshow": {
     "slide_type": "subslide"
    }
   },
   "outputs": [],
   "source": [
    "_ = supriya.graph(pluck_synthdef)"
   ]
  },
  {
   "cell_type": "markdown",
   "metadata": {
    "slideshow": {
     "slide_type": "subslide"
    }
   },
   "source": [
    "SynthDefs do not need to be named. Supriya uses hashing to generate unique names:"
   ]
  },
  {
   "cell_type": "code",
   "execution_count": null,
   "metadata": {},
   "outputs": [],
   "source": [
    "pluck_synthdef.name, pluck_synthdef.anonymous_name, pluck_synthdef.actual_name"
   ]
  },
  {
   "cell_type": "code",
   "execution_count": null,
   "metadata": {},
   "outputs": [],
   "source": [
    "server = supriya.Server().boot()\n",
    "with server.osc_io.capture() as transcript:\n",
    "    pluck_synthdef.play()"
   ]
  },
  {
   "cell_type": "code",
   "execution_count": null,
   "metadata": {
    "scrolled": false
   },
   "outputs": [],
   "source": [
    "for timestamp, request in transcript.requests:\n",
    "    print(request)"
   ]
  },
  {
   "cell_type": "markdown",
   "metadata": {
    "slideshow": {
     "slide_type": "subslide"
    }
   },
   "source": [
    "### A swarm of fretless mandolins"
   ]
  },
  {
   "cell_type": "code",
   "execution_count": null,
   "metadata": {
    "slideshow": {
     "slide_type": "-"
    }
   },
   "outputs": [],
   "source": [
    "count = 50\n",
    "\n",
    "with supriya.SynthDefBuilder() as builder:\n",
    "    frequencies = supriya.ugens.SinOsc.kr(\n",
    "        frequency=[supriya.ugens.Rand.ir(0.05, 0.2) for _ in range(count)],\n",
    "        phase=[supriya.ugens.Rand.ir(0., 1.0) for _ in range(count)],\n",
    "    ).range(1000, 3000)\n",
    "    plucks = supriya.ugens.Pluck.ar(\n",
    "        source=[supriya.ugens.WhiteNoise.ar() * 0.1 for _ in range(count)],\n",
    "        trigger=[supriya.ugens.Impulse.kr(frequency=supriya.ugens.Rand.ir(10, 12)) for _ in range(count)],\n",
    "        maximum_delay_time=1 / 100,\n",
    "        delay_time=1 / frequencies,\n",
    "        decay_time=2,\n",
    "        coefficient=[supriya.ugens.Rand.ir(0.01, 0.2) for _ in range(count)],\n",
    "    )\n",
    "    pans = supriya.ugens.Pan2.ar(\n",
    "        source=plucks,\n",
    "        position=[supriya.ugens.Rand.ir(-1, 1) for _ in range(count)]\n",
    "    )\n",
    "    mix = supriya.ugens.Mix.multichannel(pans, 2)\n",
    "    supriya.ugens.Out.ar(source=supriya.ugens.LeakDC.ar(source=mix))"
   ]
  },
  {
   "cell_type": "code",
   "execution_count": null,
   "metadata": {
    "slideshow": {
     "slide_type": "-"
    }
   },
   "outputs": [],
   "source": [
    "angry_mandolins = builder.build()"
   ]
  },
  {
   "cell_type": "markdown",
   "metadata": {
    "slideshow": {
     "slide_type": "subslide"
    }
   },
   "source": [
    "This SynthDef is too large to send over UDP, but Supriya does the right thing:"
   ]
  },
  {
   "cell_type": "code",
   "execution_count": null,
   "metadata": {},
   "outputs": [],
   "source": [
    "len(angry_mandolins.compile())"
   ]
  },
  {
   "cell_type": "code",
   "execution_count": null,
   "metadata": {},
   "outputs": [],
   "source": [
    "server = supriya.Server().reboot()\n",
    "with server.osc_io.capture() as transcript:\n",
    "    synth = angry_mandolins.play()"
   ]
  },
  {
   "cell_type": "code",
   "execution_count": null,
   "metadata": {
    "scrolled": true
   },
   "outputs": [],
   "source": [
    "for timestamp, request in transcript.requests:\n",
    "    print(request)"
   ]
  },
  {
   "cell_type": "code",
   "execution_count": null,
   "metadata": {},
   "outputs": [],
   "source": [
    "synth.free()"
   ]
  },
  {
   "cell_type": "markdown",
   "metadata": {
    "slideshow": {
     "slide_type": "subslide"
    }
   },
   "source": [
    "Let's parameterize those mandolins:"
   ]
  },
  {
   "cell_type": "code",
   "execution_count": null,
   "metadata": {},
   "outputs": [],
   "source": [
    "def make_mandolin_synthdef(count=50):\n",
    "    with supriya.SynthDefBuilder() as builder:\n",
    "        frequencies = supriya.ugens.SinOsc.kr(\n",
    "            frequency=[supriya.ugens.Rand.ir(0.05, 0.2) for _ in range(count)],\n",
    "            phase=[supriya.ugens.Rand.ir(0., 1.0) for _ in range(count)],\n",
    "        ).range(1000, 3000)\n",
    "        plucks = supriya.ugens.Pluck.ar(\n",
    "            source=[supriya.ugens.WhiteNoise.ar() * 0.1 for _ in range(count)],\n",
    "            trigger=[supriya.ugens.Impulse.kr(frequency=supriya.ugens.Rand.ir(10, 12)) for _ in range(count)],\n",
    "            maximum_delay_time=1 / 100,\n",
    "            delay_time=1 / frequencies,\n",
    "            decay_time=2,\n",
    "            coefficient=[supriya.ugens.Rand.ir(0.01, 0.2) for _ in range(count)],\n",
    "        )\n",
    "        pans = supriya.ugens.Pan2.ar(\n",
    "            source=plucks,\n",
    "            position=[supriya.ugens.Rand.ir(-1, 1) for _ in range(count)]\n",
    "        )\n",
    "        mix = supriya.ugens.Mix.multichannel(pans, 2)\n",
    "        supriya.ugens.Out.ar(source=supriya.ugens.LeakDC.ar(source=mix))\n",
    "    return builder.build()"
   ]
  },
  {
   "cell_type": "code",
   "execution_count": null,
   "metadata": {
    "slideshow": {
     "slide_type": "subslide"
    }
   },
   "outputs": [],
   "source": [
    "server.reboot()"
   ]
  },
  {
   "cell_type": "code",
   "execution_count": null,
   "metadata": {
    "slideshow": {
     "slide_type": "-"
    }
   },
   "outputs": [],
   "source": [
    "synth_1 = make_mandolin_synthdef(count=1).play()"
   ]
  },
  {
   "cell_type": "code",
   "execution_count": null,
   "metadata": {},
   "outputs": [],
   "source": [
    "synth_5 = make_mandolin_synthdef(count=5).play()"
   ]
  },
  {
   "cell_type": "code",
   "execution_count": null,
   "metadata": {},
   "outputs": [],
   "source": [
    "synth_25 = make_mandolin_synthdef(count=25).play()"
   ]
  },
  {
   "cell_type": "code",
   "execution_count": null,
   "metadata": {},
   "outputs": [],
   "source": [
    "server.quit()"
   ]
  },
  {
   "cell_type": "markdown",
   "metadata": {
    "slideshow": {
     "slide_type": "slide"
    }
   },
   "source": [
    "## SynthDef Factories\n",
    "\n",
    "Adding another level of abstraction and convention.\n",
    "\n",
    "`Synth` --> `SynthDef` --> `SynthDefBuilder` --> `SynthDefFactory`"
   ]
  },
  {
   "cell_type": "markdown",
   "metadata": {
    "slideshow": {
     "slide_type": "subslide"
    }
   },
   "source": [
    "A double allpass delay chain with wiggly modulation:"
   ]
  },
  {
   "cell_type": "code",
   "execution_count": null,
   "metadata": {
    "slideshow": {
     "slide_type": "-"
    }
   },
   "outputs": [],
   "source": [
    "factory = supriya.synthdefs.SynthDefFactory()"
   ]
  },
  {
   "cell_type": "code",
   "execution_count": null,
   "metadata": {},
   "outputs": [],
   "source": [
    "def signal_block(builder, source, state):\n",
    "    iterations = state.get('iterations') or 2\n",
    "    for _ in range(iterations):\n",
    "        decay_time = supriya.ugens.LFDNoise3.kr(\n",
    "            frequency=[1] * state[\"channel_count\"],\n",
    "        )\n",
    "        delay_time = supriya.ugens.LFDNoise3.kr(\n",
    "            frequency=[1] * state[\"channel_count\"],\n",
    "        )\n",
    "        source = supriya.ugens.AllpassC.ar(\n",
    "            decay_time=decay_time.range(0.05, 0.5),\n",
    "            delay_time=delay_time.range(0.05, 1.0),\n",
    "            source=source,\n",
    "            maximum_delay_time=1.0,\n",
    "            )\n",
    "    return source"
   ]
  },
  {
   "cell_type": "code",
   "execution_count": null,
   "metadata": {},
   "outputs": [],
   "source": [
    "factory = factory.with_input()\n",
    "factory = factory.with_output()\n",
    "factory = factory.with_signal_block(signal_block)"
   ]
  },
  {
   "cell_type": "code",
   "execution_count": null,
   "metadata": {},
   "outputs": [],
   "source": [
    "synthdef = factory.build()"
   ]
  },
  {
   "cell_type": "code",
   "execution_count": null,
   "metadata": {
    "slideshow": {
     "slide_type": "subslide"
    }
   },
   "outputs": [],
   "source": [
    "_ = supriya.graph(synthdef)"
   ]
  },
  {
   "cell_type": "markdown",
   "metadata": {
    "slideshow": {
     "slide_type": "subslide"
    }
   },
   "source": [
    "Let's make that a quadruple allpass:"
   ]
  },
  {
   "cell_type": "code",
   "execution_count": null,
   "metadata": {
    "slideshow": {
     "slide_type": "-"
    }
   },
   "outputs": [],
   "source": [
    "synthdef = factory.build(iterations=4)\n",
    "_ = supriya.graph(synthdef)"
   ]
  },
  {
   "cell_type": "markdown",
   "metadata": {
    "slideshow": {
     "slide_type": "subslide"
    }
   },
   "source": [
    "Or an octuple allpass:"
   ]
  },
  {
   "cell_type": "code",
   "execution_count": null,
   "metadata": {
    "slideshow": {
     "slide_type": "-"
    }
   },
   "outputs": [],
   "source": [
    "synthdef = factory.build(iterations=8)\n",
    "_ = supriya.graph(synthdef)"
   ]
  },
  {
   "cell_type": "markdown",
   "metadata": {
    "slideshow": {
     "slide_type": "subslide"
    }
   },
   "source": [
    "A _stereo_ quadruple allpass delay:"
   ]
  },
  {
   "cell_type": "code",
   "execution_count": null,
   "metadata": {
    "slideshow": {
     "slide_type": "-"
    }
   },
   "outputs": [],
   "source": [
    "synthdef = factory.build(iterations=4, channel_count=2)\n",
    "_ = supriya.graph(synthdef)"
   ]
  },
  {
   "cell_type": "markdown",
   "metadata": {
    "slideshow": {
     "slide_type": "subslide"
    }
   },
   "source": [
    "A double allpass delay with dry/wet mix:"
   ]
  },
  {
   "cell_type": "code",
   "execution_count": null,
   "metadata": {
    "scrolled": false,
    "slideshow": {
     "slide_type": "-"
    }
   },
   "outputs": [],
   "source": [
    "factory = factory.with_output(crossfaded=True)\n",
    "synthdef = factory.build(iterations=2)\n",
    "_ = supriya.graph(synthdef)"
   ]
  },
  {
   "cell_type": "markdown",
   "metadata": {
    "slideshow": {
     "slide_type": "subslide"
    }
   },
   "source": [
    "Where the dry/wet mix follows a durated hanning window:"
   ]
  },
  {
   "cell_type": "code",
   "execution_count": null,
   "metadata": {
    "scrolled": false,
    "slideshow": {
     "slide_type": "-"
    }
   },
   "outputs": [],
   "source": [
    "factory = factory.with_output(crossfaded=True, windowed=True)\n",
    "synthdef = factory.build(iterations=2)\n",
    "_ = supriya.graph(synthdef)"
   ]
  },
  {
   "cell_type": "markdown",
   "metadata": {
    "slideshow": {
     "slide_type": "subslide"
    }
   },
   "source": [
    "Now add another signal block with DC-kill and limiting:"
   ]
  },
  {
   "cell_type": "code",
   "execution_count": null,
   "metadata": {
    "slideshow": {
     "slide_type": "-"
    }
   },
   "outputs": [],
   "source": [
    "def signal_block_post(builder, source, state):\n",
    "    source = supriya.ugens.LeakDC.ar(source=source)\n",
    "    source = supriya.ugens.Limiter.ar(duration=0.01, source=source)\n",
    "    return source"
   ]
  },
  {
   "cell_type": "code",
   "execution_count": null,
   "metadata": {
    "scrolled": true
   },
   "outputs": [],
   "source": [
    "factory = factory.with_signal_block(signal_block_post)\n",
    "synthdef = factory.build(iterations=2)\n",
    "_ = supriya.graph(synthdef)"
   ]
  },
  {
   "cell_type": "markdown",
   "metadata": {
    "slideshow": {
     "slide_type": "subslide"
    }
   },
   "source": [
    "And a feedback loop:"
   ]
  },
  {
   "cell_type": "code",
   "execution_count": null,
   "metadata": {
    "scrolled": false,
    "slideshow": {
     "slide_type": "-"
    }
   },
   "outputs": [],
   "source": [
    "factory = factory.with_feedback_loop()\n",
    "synthdef = factory.build(iterations=2)\n",
    "_ = supriya.graph(synthdef)"
   ]
  },
  {
   "cell_type": "markdown",
   "metadata": {
    "slideshow": {
     "slide_type": "subslide"
    }
   },
   "source": [
    "Where the feedback loop has its own signal block:"
   ]
  },
  {
   "cell_type": "code",
   "execution_count": null,
   "metadata": {
    "slideshow": {
     "slide_type": "-"
    }
   },
   "outputs": [],
   "source": [
    "def feedback_block(builder, source, state):\n",
    "    multiplier = supriya.ugens.LFDNoise1.kr(frequency=10).range(0.1, 0.9)\n",
    "    if len(source) > 1:\n",
    "        source = supriya.synthdefs.UGenArray((source[-1],) + source[:-1])\n",
    "    return -(multiplier * source)"
   ]
  },
  {
   "cell_type": "code",
   "execution_count": null,
   "metadata": {
    "scrolled": true
   },
   "outputs": [],
   "source": [
    "factory = factory.with_feedback_loop(feedback_block)\n",
    "synthdef = factory.build(iterations=2)\n",
    "_ = supriya.graph(synthdef)"
   ]
  },
  {
   "cell_type": "markdown",
   "metadata": {
    "slideshow": {
     "slide_type": "subslide"
    }
   },
   "source": [
    "And a random seed ID:"
   ]
  },
  {
   "cell_type": "code",
   "execution_count": null,
   "metadata": {
    "slideshow": {
     "slide_type": "-"
    }
   },
   "outputs": [],
   "source": [
    "factory = factory.with_rand_id(1)\n",
    "synthdef = factory.build(iterations=2)\n",
    "_ = supriya.graph(synthdef)"
   ]
  },
  {
   "cell_type": "markdown",
   "metadata": {
    "slideshow": {
     "slide_type": "subslide"
    }
   },
   "source": [
    "And finally in stereo with four delays:"
   ]
  },
  {
   "cell_type": "code",
   "execution_count": null,
   "metadata": {
    "scrolled": true,
    "slideshow": {
     "slide_type": "-"
    }
   },
   "outputs": [],
   "source": [
    "synthdef = factory.build(iterations=4, channel_count=2)\n",
    "_ = supriya.graph(synthdef)"
   ]
  },
  {
   "cell_type": "markdown",
   "metadata": {
    "slideshow": {
     "slide_type": "slide"
    }
   },
   "source": [
    "## Non-realtime Session Model\n",
    "\n",
    "Supriya has a parallel object-model for non-realtime composition."
   ]
  },
  {
   "cell_type": "code",
   "execution_count": null,
   "metadata": {
    "slideshow": {
     "slide_type": "notes"
    }
   },
   "outputs": [],
   "source": [
    "%reload_ext supriya.ext.ipython\n",
    "import supriya"
   ]
  },
  {
   "cell_type": "code",
   "execution_count": null,
   "metadata": {},
   "outputs": [],
   "source": [
    "session = supriya.nonrealtime.Session(2, 2)\n",
    "\n",
    "with session.at(0):\n",
    "    synth_a = session.add_synth(duration=6, frequency=444)\n",
    "    group = session.add_group(add_action=\"ADD_TO_TAIL\")\n",
    "    \n",
    "with session.at(2):\n",
    "    synth_b = session.add_synth(duration=6, frequency=555, add_action=\"ADD_TO_TAIL\")\n",
    "    \n",
    "with session.at(4):\n",
    "    group.move_node(synth_a)"
   ]
  },
  {
   "cell_type": "code",
   "execution_count": null,
   "metadata": {},
   "outputs": [],
   "source": [
    "_ = supriya.play(session)"
   ]
  },
  {
   "cell_type": "code",
   "execution_count": null,
   "metadata": {
    "slideshow": {
     "slide_type": "subslide"
    }
   },
   "outputs": [],
   "source": [
    "print(session.to_strings())"
   ]
  },
  {
   "cell_type": "markdown",
   "metadata": {
    "slideshow": {
     "slide_type": "subslide"
    }
   },
   "source": [
    "Just like the realtime model, nodes know about their parents and children.\n",
    "\n",
    "With the caveat that you always have to ask \"when...\":"
   ]
  },
  {
   "cell_type": "code",
   "execution_count": null,
   "metadata": {},
   "outputs": [],
   "source": [
    "with session.at(1):\n",
    "    print(synth_a.get_parentage())"
   ]
  },
  {
   "cell_type": "code",
   "execution_count": null,
   "metadata": {},
   "outputs": [],
   "source": [
    "with session.at(5):\n",
    "    print(synth_a.get_parentage())"
   ]
  },
  {
   "cell_type": "code",
   "execution_count": null,
   "metadata": {},
   "outputs": [],
   "source": [
    "with session.at(1):\n",
    "    print(session.root_node.get_children())"
   ]
  },
  {
   "cell_type": "code",
   "execution_count": null,
   "metadata": {},
   "outputs": [],
   "source": [
    "with session.at(5):\n",
    "    print(session.root_node.get_children())"
   ]
  },
  {
   "cell_type": "code",
   "execution_count": null,
   "metadata": {
    "scrolled": true,
    "slideshow": {
     "slide_type": "subslide"
    }
   },
   "outputs": [],
   "source": [
    "for osc_bundle in session.to_osc_bundles(duration=10):\n",
    "    for osc_message in osc_bundle.contents:\n",
    "        print(osc_bundle.timestamp, repr(osc_message))"
   ]
  },
  {
   "cell_type": "markdown",
   "metadata": {
    "slideshow": {
     "slide_type": "subslide"
    }
   },
   "source": [
    "A slightly trickier example:"
   ]
  },
  {
   "cell_type": "code",
   "execution_count": null,
   "metadata": {
    "slideshow": {
     "slide_type": "-"
    }
   },
   "outputs": [],
   "source": [
    "session = supriya.nonrealtime.Session(2, 2)\n",
    "\n",
    "with session.at(0):\n",
    "    outer_group = session.add_group()\n",
    "    synth_a = outer_group.add_synth(duration=6, frequency=333)\n",
    "    inner_group = outer_group.add_group(add_action=\"ADD_TO_TAIL\")\n",
    "    \n",
    "with session.at(2):\n",
    "    synth_a[\"frequency\"] = 444\n",
    "    \n",
    "with session.at(4):\n",
    "    synth_b = inner_group.add_synth(duration=4, frequency=555)\n",
    "    \n",
    "with session.at(6):\n",
    "    synth_b.move_node(synth_a, \"ADD_AFTER\")"
   ]
  },
  {
   "cell_type": "code",
   "execution_count": null,
   "metadata": {},
   "outputs": [],
   "source": [
    "_ = supriya.play(session, duration=10)"
   ]
  },
  {
   "cell_type": "markdown",
   "metadata": {
    "slideshow": {
     "slide_type": "subslide"
    }
   },
   "source": [
    "Nodes know about their parameters through time:"
   ]
  },
  {
   "cell_type": "code",
   "execution_count": null,
   "metadata": {},
   "outputs": [],
   "source": [
    "with session.at(1):\n",
    "    print(synth_a[\"frequency\"])"
   ]
  },
  {
   "cell_type": "code",
   "execution_count": null,
   "metadata": {},
   "outputs": [],
   "source": [
    "with session.at(3):\n",
    "    print(synth_a[\"frequency\"])"
   ]
  },
  {
   "cell_type": "code",
   "execution_count": null,
   "metadata": {
    "slideshow": {
     "slide_type": "subslide"
    }
   },
   "outputs": [],
   "source": [
    "print(session.to_strings())"
   ]
  },
  {
   "cell_type": "markdown",
   "metadata": {
    "slideshow": {
     "slide_type": "subslide"
    }
   },
   "source": [
    "We can perform some more exotic operations on the nodes, like splitting a group but keeping its children intact:"
   ]
  },
  {
   "cell_type": "code",
   "execution_count": null,
   "metadata": {
    "slideshow": {
     "slide_type": "-"
    }
   },
   "outputs": [],
   "source": [
    "with session.at(7.5):\n",
    "    outer_group.split(split_occupiers=False)"
   ]
  },
  {
   "cell_type": "code",
   "execution_count": null,
   "metadata": {},
   "outputs": [],
   "source": [
    "_ = supriya.play(session, duration=10)"
   ]
  },
  {
   "cell_type": "markdown",
   "metadata": {
    "slideshow": {
     "slide_type": "subslide"
    }
   },
   "source": [
    "Group 1000 has become group 1004:"
   ]
  },
  {
   "cell_type": "code",
   "execution_count": null,
   "metadata": {
    "slideshow": {
     "slide_type": "-"
    }
   },
   "outputs": [],
   "source": [
    "print(session.to_strings())"
   ]
  },
  {
   "cell_type": "markdown",
   "metadata": {
    "slideshow": {
     "slide_type": "subslide"
    }
   },
   "source": [
    "Look at the OSC messages at timestamp 7.5:"
   ]
  },
  {
   "cell_type": "code",
   "execution_count": null,
   "metadata": {
    "scrolled": true,
    "slideshow": {
     "slide_type": "-"
    }
   },
   "outputs": [],
   "source": [
    "for osc_bundle in session.to_osc_bundles(duration=40):\n",
    "    for osc_message in osc_bundle.contents:\n",
    "        print(osc_bundle.timestamp, repr(osc_message))"
   ]
  },
  {
   "cell_type": "markdown",
   "metadata": {
    "slideshow": {
     "slide_type": "slide"
    }
   },
   "source": [
    "### The `__render__` protocol"
   ]
  },
  {
   "cell_type": "markdown",
   "metadata": {},
   "source": [
    "Supriya's NRT knows about soundfiles and _things that could, in the future, be soundfiles_.\n",
    "\n",
    "This is expressed via the `__render__` protocol. If a class implements a `__render__` method that writes audio to disk and returns the path, then instances of that class can be used anywhere you would pass the path to a soundfile."
   ]
  },
  {
   "cell_type": "code",
   "execution_count": null,
   "metadata": {
    "slideshow": {
     "slide_type": "skip"
    }
   },
   "outputs": [],
   "source": [
    "%load_ext supriya.ext.ipython\n",
    "import supriya"
   ]
  },
  {
   "cell_type": "code",
   "execution_count": null,
   "metadata": {
    "scrolled": true
   },
   "outputs": [],
   "source": [
    "say_supriya = supriya.Say(\"Speak and Spell Supriya\", voice=\"Daniel\")\n",
    "_ = supriya.play(say_supriya)"
   ]
  },
  {
   "cell_type": "markdown",
   "metadata": {
    "slideshow": {
     "slide_type": "slide"
    }
   },
   "source": [
    "### NRT Dependency Tree (turtles all the way down)"
   ]
  },
  {
   "cell_type": "markdown",
   "metadata": {
    "slideshow": {
     "slide_type": "subslide"
    }
   },
   "source": [
    "Let's make a quick mono-to-stereo sampler player:"
   ]
  },
  {
   "cell_type": "code",
   "execution_count": null,
   "metadata": {
    "slideshow": {
     "slide_type": "-"
    }
   },
   "outputs": [],
   "source": [
    "with supriya.SynthDefBuilder(buffer_id=0, gain=0, pan=0, rate=1) as builder:\n",
    "    rate_scale = supriya.ugens.BufRateScale.kr(buffer_id=builder[\"buffer_id\"])\n",
    "    source = supriya.ugens.PlayBuf.ar(\n",
    "        buffer_id=builder[\"buffer_id\"],\n",
    "        channel_count=1,\n",
    "        done_action=supriya.DoneAction.FREE_SYNTH,\n",
    "        rate=builder[\"rate\"] * rate_scale,\n",
    "    ) * builder[\"gain\"].db_to_amplitude()\n",
    "    source = supriya.ugens.Pan2.ar(source=source, position=builder[\"pan\"])\n",
    "    supriya.ugens.Out.ar(bus=0, source=source)\n",
    "    \n",
    "mono_to_stereo_sampler_synthdef = builder.build(\"mono_to_stereo_sampler\")"
   ]
  },
  {
   "cell_type": "markdown",
   "metadata": {
    "slideshow": {
     "slide_type": "subslide"
    }
   },
   "source": [
    "Add the `Say` instance as a buffer, then play it fives times:"
   ]
  },
  {
   "cell_type": "code",
   "execution_count": null,
   "metadata": {
    "slideshow": {
     "slide_type": "-"
    }
   },
   "outputs": [],
   "source": [
    "say_supriya_session = supriya.Session(2, 2)\n",
    "\n",
    "with say_supriya_session.at(0):\n",
    "    buffer_ = say_supriya_session.add_buffer(\n",
    "        channel_count=1,\n",
    "        file_path=say_supriya,\n",
    "    )\n",
    "    \n",
    "for i in range(5):\n",
    "    with say_supriya_session.at(i):\n",
    "        synth = say_supriya_session.add_synth(\n",
    "            synthdef=mono_to_stereo_sampler_synthdef,\n",
    "            buffer_id=buffer_,\n",
    "            rate=2 ** (-i / 4),\n",
    "            pan=(i - 2) / 2,\n",
    "        )"
   ]
  },
  {
   "cell_type": "code",
   "execution_count": null,
   "metadata": {
    "slideshow": {
     "slide_type": "subslide"
    }
   },
   "outputs": [],
   "source": [
    "_ = supriya.play(say_supriya_session, duration=10, print_transcript=True)"
   ]
  },
  {
   "cell_type": "markdown",
   "metadata": {
    "slideshow": {
     "slide_type": "subslide"
    }
   },
   "source": [
    "Now let's make a quick stereo-to-stereo sample player:"
   ]
  },
  {
   "cell_type": "code",
   "execution_count": null,
   "metadata": {},
   "outputs": [],
   "source": [
    "with supriya.SynthDefBuilder(buffer_id=0, gain=0, pan=0, rate=1) as builder:\n",
    "    rate_scale = supriya.ugens.BufRateScale.kr(buffer_id=builder[\"buffer_id\"])\n",
    "    source = supriya.ugens.PlayBuf.ar(\n",
    "        buffer_id=builder[\"buffer_id\"],\n",
    "        channel_count=2,\n",
    "        done_action=supriya.DoneAction.FREE_SYNTH,\n",
    "        rate=builder[\"rate\"] * rate_scale,\n",
    "    ) * builder[\"gain\"].db_to_amplitude()\n",
    "    supriya.ugens.Out.ar(bus=0, source=source)\n",
    "    \n",
    "stereo_to_stereo_sampler_synthdef = builder.build(\"stereo_to_stereo_sampler\")"
   ]
  },
  {
   "cell_type": "markdown",
   "metadata": {
    "slideshow": {
     "slide_type": "subslide"
    }
   },
   "source": [
    "The previous session is now used as the file path for the buffer in this new session:"
   ]
  },
  {
   "cell_type": "code",
   "execution_count": null,
   "metadata": {
    "slideshow": {
     "slide_type": "-"
    }
   },
   "outputs": [],
   "source": [
    "say_supriya_session_session = supriya.Session(2, 2)\n",
    "\n",
    "with say_supriya_session_session.at(0):\n",
    "    buffer_ = say_supriya_session_session.add_buffer(\n",
    "        channel_count=2,\n",
    "        file_path=say_supriya_session,\n",
    "    )\n",
    "    \n",
    "for i in range(4):\n",
    "    with say_supriya_session_session.at(i):\n",
    "        synth = say_supriya_session_session.add_synth(\n",
    "            synthdef=stereo_to_stereo_sampler_synthdef,\n",
    "            buffer_id=buffer_,\n",
    "            rate=2 ** (-i / 4)\n",
    "        )"
   ]
  },
  {
   "cell_type": "code",
   "execution_count": null,
   "metadata": {
    "slideshow": {
     "slide_type": "subslide"
    }
   },
   "outputs": [],
   "source": [
    "_ = supriya.play(say_supriya_session_session, duration=12, print_transcript=True)"
   ]
  },
  {
   "cell_type": "markdown",
   "metadata": {
    "slideshow": {
     "slide_type": "subslide"
    }
   },
   "source": [
    "Deeper and deeper:"
   ]
  },
  {
   "cell_type": "code",
   "execution_count": null,
   "metadata": {
    "slideshow": {
     "slide_type": "-"
    }
   },
   "outputs": [],
   "source": [
    "allpass_panic_synthdef = (\n",
    "    factory\n",
    "    .with_input(private=True)  # separate in and out bus IDs\n",
    "    .with_output(crossfaded=True)\n",
    "    .build(name=\"allpass_panic\", channel_count=2, iterations=8)\n",
    ")\n",
    "\n",
    "meta_session = supriya.Session(2, 2, input_=say_supriya_session_session)\n",
    "\n",
    "with meta_session.at(0):\n",
    "    # we need to read from input bus and write to the output bus\n",
    "    meta_session.add_synth(\n",
    "        synthdef=allpass_panic_synthdef,\n",
    "        crossfade=0.5,\n",
    "        in_=meta_session.audio_input_bus_group,  # input buses are object-modeled\n",
    "    )\n",
    "    meta_session.set_rand_seed(rand_id=0, rand_seed=1)"
   ]
  },
  {
   "cell_type": "code",
   "execution_count": null,
   "metadata": {
    "scrolled": true,
    "slideshow": {
     "slide_type": "subslide"
    }
   },
   "outputs": [],
   "source": [
    "for osc_bundle in meta_session.to_osc_bundles(duration=40):\n",
    "    for osc_message in osc_bundle.contents:\n",
    "        print(osc_bundle.timestamp, repr(osc_message))"
   ]
  },
  {
   "cell_type": "code",
   "execution_count": null,
   "metadata": {
    "scrolled": false,
    "slideshow": {
     "slide_type": "subslide"
    }
   },
   "outputs": [],
   "source": [
    "_ = supriya.play(meta_session, duration=30, print_transcript=True)"
   ]
  },
  {
   "cell_type": "code",
   "execution_count": null,
   "metadata": {
    "slideshow": {
     "slide_type": "skip"
    }
   },
   "outputs": [],
   "source": [
    "server.quit()\n",
    "for path in supriya.output_path.iterdir():\n",
    "    path.unlink()"
   ]
  }
 ],
 "metadata": {
  "celltoolbar": "Slideshow",
  "kernelspec": {
   "display_name": "Python 3",
   "language": "python",
   "name": "python3"
  },
  "language_info": {
   "codemirror_mode": {
    "name": "ipython",
    "version": 3
   },
   "file_extension": ".py",
   "mimetype": "text/x-python",
   "name": "python",
   "nbconvert_exporter": "python",
   "pygments_lexer": "ipython3",
   "version": "3.9.0"
  },
  "rise": {
   "autolaunch": true,
   "transition": "slide"
  },
  "toc": {
   "base_numbering": 1,
   "nav_menu": {},
   "number_sections": true,
   "sideBar": true,
   "skip_h1_title": true,
   "title_cell": "Table of Contents",
   "title_sidebar": "Contents",
   "toc_cell": false,
   "toc_position": {},
   "toc_section_display": true,
   "toc_window_display": false
  }
 },
 "nbformat": 4,
 "nbformat_minor": 2
}